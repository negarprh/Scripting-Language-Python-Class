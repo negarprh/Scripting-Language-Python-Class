{
 "cells": [
  {
   "cell_type": "code",
   "execution_count": 15,
   "id": "5f5f975d-f9c7-4985-8dec-dacdf642af4f",
   "metadata": {},
   "outputs": [
    {
     "name": "stdin",
     "output_type": "stream",
     "text": [
      "Please enter your weight in kg:  90\n"
     ]
    },
    {
     "name": "stdout",
     "output_type": "stream",
     "text": [
      "Your entered weight is in of the range.\n"
     ]
    },
    {
     "name": "stdin",
     "output_type": "stream",
     "text": [
      "Please enter your height in m:  1.69\n"
     ]
    },
    {
     "name": "stdout",
     "output_type": "stream",
     "text": [
      "Your entered height is in of the range\n",
      "Your BMI is 31.51\n",
      "Obese\n"
     ]
    }
   ],
   "source": [
    "while True:\n",
    "    weight = float(input('Please enter your weight in kg: '))\n",
    "\n",
    "    if weight >= 1 and weight <= 300 :\n",
    "        print('Your entered weight is in of the range.') \n",
    "        break\n",
    "    else:\n",
    "        print('Your entered weight is out of the range.')\n",
    "\n",
    "while True:\n",
    "    height = float(input('Please enter your height in m: '))\n",
    "\n",
    "    if height >= 1 and height <= 3 :\n",
    "        print('Your entered height is in of the range') \n",
    "        break\n",
    "    else:\n",
    "        print('Your entered height is out of the range')\n",
    "\n",
    "BMI = (weight) / ((height) ** 2)\n",
    "\n",
    "print('Your BMI is {:.2f}'.format(BMI)) \n",
    "\n",
    "if BMI < 18.5:\n",
    "    print('Underweight')\n",
    "elif BMI <= 18.5 and BMI >= 25 :\n",
    "    print('Normal Weight')\n",
    "elif BMI <= 25 and BMI >= 30 :\n",
    "    print('Overweight')\n",
    "elif BMI >= 30:\n",
    "    print('Obese')\n",
    "\n",
    "\n"
   ]
  },
  {
   "cell_type": "code",
   "execution_count": null,
   "id": "caab1ec0-8eae-4ea9-938d-43f5dffc08df",
   "metadata": {},
   "outputs": [],
   "source": [
    "print('"
   ]
  }
 ],
 "metadata": {
  "kernelspec": {
   "display_name": "Python 3 (ipykernel)",
   "language": "python",
   "name": "python3"
  },
  "language_info": {
   "codemirror_mode": {
    "name": "ipython",
    "version": 3
   },
   "file_extension": ".py",
   "mimetype": "text/x-python",
   "name": "python",
   "nbconvert_exporter": "python",
   "pygments_lexer": "ipython3",
   "version": "3.12.4"
  }
 },
 "nbformat": 4,
 "nbformat_minor": 5
}
