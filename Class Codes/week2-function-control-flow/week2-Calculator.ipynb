{
 "cells": [
  {
   "cell_type": "code",
   "execution_count": 7,
   "id": "b752f488-91bb-4603-a091-1f2ae9112d6b",
   "metadata": {},
   "outputs": [
    {
     "name": "stdout",
     "output_type": "stream",
     "text": [
      "<class 'str'>\n",
      "<class 'int'>\n"
     ]
    }
   ],
   "source": [
    "my_int = 3\n",
    "\n",
    "my_str = str(my_int)\n",
    "\n",
    "my_type_str = type(my_str + 'hi')\n",
    "print(type(my_str))\n",
    "print(type(my_int))"
   ]
  },
  {
   "cell_type": "code",
   "execution_count": 54,
   "id": "6d835707-6294-442c-b2d2-b2230c7eb47f",
   "metadata": {},
   "outputs": [
    {
     "name": "stdin",
     "output_type": "stream",
     "text": [
      "Which operation do you want? (+, -, *, /) +\n"
     ]
    },
    {
     "name": "stdout",
     "output_type": "stream",
     "text": [
      "You did it Good\n"
     ]
    },
    {
     "name": "stdin",
     "output_type": "stream",
     "text": [
      "What is the first operand?  20\n"
     ]
    },
    {
     "name": "stdout",
     "output_type": "stream",
     "text": [
      "You did it in the Range\n"
     ]
    },
    {
     "name": "stdin",
     "output_type": "stream",
     "text": [
      "What is the second operand?  111\n"
     ]
    },
    {
     "name": "stdout",
     "output_type": "stream",
     "text": [
      "You did it out of the range\n"
     ]
    },
    {
     "name": "stdin",
     "output_type": "stream",
     "text": [
      "What is the second operand?  30\n"
     ]
    },
    {
     "name": "stdout",
     "output_type": "stream",
     "text": [
      "You did it in the Range\n",
      "50.0\n"
     ]
    }
   ],
   "source": [
    "\n",
    "while True:\n",
    "    operation = input('Which operation do you want? (+, -, *, /)')\n",
    "\n",
    "    if operation == '+' or operation == '-' or operation == '*' or operation == '/' :\n",
    "        print('You did it Good') \n",
    "        break\n",
    "    else:\n",
    "        print('You did it Bad')\n",
    "\n",
    "while True:\n",
    "    operand_A = float(input('What is the first operand? '))\n",
    "\n",
    "    if operand_A > 0 and operand_A < 101:\n",
    "        print('You did it in the Range') \n",
    "        break\n",
    "    else:\n",
    "        print('You did it out of the range')\n",
    "\n",
    "\n",
    "while True:\n",
    "    operand_B = float(input('What is the second operand? '))\n",
    "\n",
    "    if operand_B > 0 and operand_B < 101:\n",
    "        print('You did it in the Range') \n",
    "        break\n",
    "    else:\n",
    "        print('You did it out of the range')\n",
    "\n",
    "\n",
    "if operation == '+':\n",
    "    print(operand_A + operand_B)\n",
    "elif operation == '-':\n",
    "    print(operand_A - operand_B)\n",
    "elif operation == '*':\n",
    "    print(operand_A * operand_B)\n",
    "elif operation == '/':\n",
    "    print(operand_A / operand_B)\n",
    "\n",
    "\n",
    "\n",
    "\n",
    "# print('We are out of the Loop')"
   ]
  }
 ],
 "metadata": {
  "kernelspec": {
   "display_name": "Python 3 (ipykernel)",
   "language": "python",
   "name": "python3"
  },
  "language_info": {
   "codemirror_mode": {
    "name": "ipython",
    "version": 3
   },
   "file_extension": ".py",
   "mimetype": "text/x-python",
   "name": "python",
   "nbconvert_exporter": "python",
   "pygments_lexer": "ipython3",
   "version": "3.12.4"
  }
 },
 "nbformat": 4,
 "nbformat_minor": 5
}
