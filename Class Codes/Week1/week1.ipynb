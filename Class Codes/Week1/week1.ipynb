{
 "cells": [
  {
   "cell_type": "code",
   "execution_count": 5,
   "id": "1e79bfc8-bc39-48fe-82d5-d9c61248be9e",
   "metadata": {},
   "outputs": [
    {
     "name": "stdout",
     "output_type": "stream",
     "text": [
      "Negar\n"
     ]
    }
   ],
   "source": [
    "first_name = 'Negar'\n",
    "age = '24'"
   ]
  },
  {
   "cell_type": "code",
   "execution_count": 7,
   "id": "a02343db-a058-431c-bd6e-ed54d32504e8",
   "metadata": {},
   "outputs": [
    {
     "data": {
      "text/plain": [
       "'Negar'"
      ]
     },
     "execution_count": 7,
     "metadata": {},
     "output_type": "execute_result"
    }
   ],
   "source": [
    "first_name"
   ]
  },
  {
   "cell_type": "code",
   "execution_count": 17,
   "id": "49ea7da0-d80b-4345-967f-0717c189e336",
   "metadata": {},
   "outputs": [
    {
     "name": "stdout",
     "output_type": "stream",
     "text": [
      "<class 'int'>\n"
     ]
    }
   ],
   "source": [
    "print(type(4)) \n",
    "#To check the type of the declared variable"
   ]
  },
  {
   "cell_type": "code",
   "execution_count": null,
   "id": "67b81d9c-395d-479e-840e-d93f75aa63b9",
   "metadata": {},
   "outputs": [],
   "source": []
  }
 ],
 "metadata": {
  "kernelspec": {
   "display_name": "Python 3 (ipykernel)",
   "language": "python",
   "name": "python3"
  },
  "language_info": {
   "codemirror_mode": {
    "name": "ipython",
    "version": 3
   },
   "file_extension": ".py",
   "mimetype": "text/x-python",
   "name": "python",
   "nbconvert_exporter": "python",
   "pygments_lexer": "ipython3",
   "version": "3.12.4"
  }
 },
 "nbformat": 4,
 "nbformat_minor": 5
}
