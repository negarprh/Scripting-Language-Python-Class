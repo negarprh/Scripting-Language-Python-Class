{
 "cells": [
  {
   "cell_type": "code",
   "execution_count": 1,
   "id": "68a3b8aa-1b6b-4563-ba70-b5caaa89766b",
   "metadata": {},
   "outputs": [
    {
     "data": {
      "text/plain": [
       "'C:\\\\Users\\\\negar\\\\Documents\\\\College\\\\Second Year\\\\Fall 2024\\\\Scripting Language\\\\Python_Projects'"
      ]
     },
     "execution_count": 1,
     "metadata": {},
     "output_type": "execute_result"
    }
   ],
   "source": [
    "import os\n",
    "os.getcwd()"
   ]
  },
  {
   "cell_type": "code",
   "execution_count": 3,
   "id": "c559bd99-573d-4771-870f-33b124cfa6fc",
   "metadata": {},
   "outputs": [],
   "source": [
    "tempreture = 23\n",
    "humidity = 60\n",
    "location = 'Montreal'\n",
    "weather_description = 'Partly Cloudy'\n",
    "time = '16:48'"
   ]
  },
  {
   "cell_type": "code",
   "execution_count": 5,
   "id": "6d97a4f9-a7b1-4d82-a336-09f775da43be",
   "metadata": {},
   "outputs": [
    {
     "data": {
      "text/plain": [
       "int"
      ]
     },
     "execution_count": 5,
     "metadata": {},
     "output_type": "execute_result"
    }
   ],
   "source": [
    "type(humidity)"
   ]
  },
  {
   "cell_type": "code",
   "execution_count": 13,
   "id": "c2971978-66c1-43dc-a9df-823bd23b64ca",
   "metadata": {},
   "outputs": [
    {
     "data": {
      "text/plain": [
       "73.4"
      ]
     },
     "execution_count": 13,
     "metadata": {},
     "output_type": "execute_result"
    }
   ],
   "source": [
    "tempreture_fehrenheit = tempreture * 9/5 + 32\n",
    "tempreture_fehrenheit"
   ]
  },
  {
   "cell_type": "code",
   "execution_count": 27,
   "id": "1baef6cc-fcdb-4660-9820-4babef080ad3",
   "metadata": {},
   "outputs": [
    {
     "data": {
      "text/plain": [
       "'High'"
      ]
     },
     "execution_count": 27,
     "metadata": {},
     "output_type": "execute_result"
    }
   ],
   "source": [
    "humidity_description = \"High\" if humidity > 70 else \"Modarate\"\n",
    "humidity_description"
   ]
  },
  {
   "cell_type": "code",
   "execution_count": 29,
   "id": "8af17855-55ad-48ee-b911-f2ca968eb7e2",
   "metadata": {},
   "outputs": [],
   "source": [
    "humidity = 71"
   ]
  },
  {
   "cell_type": "code",
   "execution_count": null,
   "id": "e4e82ab2-3ca1-4e48-9745-6ff044c7c22a",
   "metadata": {},
   "outputs": [],
   "source": []
  }
 ],
 "metadata": {
  "kernelspec": {
   "display_name": "Python 3 (ipykernel)",
   "language": "python",
   "name": "python3"
  },
  "language_info": {
   "codemirror_mode": {
    "name": "ipython",
    "version": 3
   },
   "file_extension": ".py",
   "mimetype": "text/x-python",
   "name": "python",
   "nbconvert_exporter": "python",
   "pygments_lexer": "ipython3",
   "version": "3.12.4"
  }
 },
 "nbformat": 4,
 "nbformat_minor": 5
}
