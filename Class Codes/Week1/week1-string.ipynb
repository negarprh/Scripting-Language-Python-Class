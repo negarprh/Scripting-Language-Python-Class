{
 "cells": [
  {
   "cell_type": "code",
   "execution_count": 3,
   "id": "b391396c-fcec-4261-85ba-08fed901a3ad",
   "metadata": {},
   "outputs": [
    {
     "data": {
      "text/plain": [
       "'negar pirs'"
      ]
     },
     "execution_count": 3,
     "metadata": {},
     "output_type": "execute_result"
    }
   ],
   "source": [
    "str1 = 'negar'\n",
    "str2 = \"pirs\"\n",
    "\n",
    "str_concatnated = str1 + \" \" + str2\n",
    "str_concatnated"
   ]
  },
  {
   "cell_type": "code",
   "execution_count": 7,
   "id": "819463e3-a8f4-4b4a-9b3f-c9b91954a872",
   "metadata": {},
   "outputs": [
    {
     "data": {
      "text/plain": [
       "'negar pirs'"
      ]
     },
     "execution_count": 7,
     "metadata": {},
     "output_type": "execute_result"
    }
   ],
   "source": [
    "str_concatnated = f\"{str1} {str2}\"\n",
    "str_concatnated"
   ]
  },
  {
   "cell_type": "code",
   "execution_count": 1,
   "id": "44e2ab0e-b9b3-40ff-84a2-fa317d362944",
   "metadata": {},
   "outputs": [
    {
     "data": {
      "text/plain": [
       "'gingergingerginger'"
      ]
     },
     "execution_count": 1,
     "metadata": {},
     "output_type": "execute_result"
    }
   ],
   "source": [
    "'ginger' * 3"
   ]
  },
  {
   "cell_type": "code",
   "execution_count": 3,
   "id": "70b5685c-a36f-49f6-b471-1958a064d376",
   "metadata": {},
   "outputs": [
    {
     "data": {
      "text/plain": [
       "True"
      ]
     },
     "execution_count": 3,
     "metadata": {},
     "output_type": "execute_result"
    }
   ],
   "source": [
    "True or True or False"
   ]
  },
  {
   "cell_type": "code",
   "execution_count": null,
   "id": "1fb3c414-962e-4db7-8ed1-c766c92d77d4",
   "metadata": {},
   "outputs": [],
   "source": [
    "is_breakfast_eaten = True\n",
    "is_lunch_eaten = True\n",
    "is_suppe"
   ]
  }
 ],
 "metadata": {
  "kernelspec": {
   "display_name": "Python 3 (ipykernel)",
   "language": "python",
   "name": "python3"
  },
  "language_info": {
   "codemirror_mode": {
    "name": "ipython",
    "version": 3
   },
   "file_extension": ".py",
   "mimetype": "text/x-python",
   "name": "python",
   "nbconvert_exporter": "python",
   "pygments_lexer": "ipython3",
   "version": "3.12.4"
  }
 },
 "nbformat": 4,
 "nbformat_minor": 5
}
