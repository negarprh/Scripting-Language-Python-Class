{
 "cells": [
  {
   "cell_type": "code",
   "execution_count": 3,
   "id": "b391396c-fcec-4261-85ba-08fed901a3ad",
   "metadata": {},
   "outputs": [
    {
     "data": {
      "text/plain": [
       "'negar pirs'"
      ]
     },
     "execution_count": 3,
     "metadata": {},
     "output_type": "execute_result"
    }
   ],
   "source": [
    "str1 = 'negar'\n",
    "str2 = \"pirs\"\n",
    "\n",
    "str_concatnated = str1 + \" \" + str2\n",
    "str_concatnated"
   ]
  },
  {
   "cell_type": "code",
   "execution_count": 7,
   "id": "819463e3-a8f4-4b4a-9b3f-c9b91954a872",
   "metadata": {},
   "outputs": [
    {
     "data": {
      "text/plain": [
       "'negar pirs'"
      ]
     },
     "execution_count": 7,
     "metadata": {},
     "output_type": "execute_result"
    }
   ],
   "source": [
    "str_concatnated = f\"{str1} {str2}\"\n",
    "str_concatnated"
   ]
  },
  {
   "cell_type": "code",
   "execution_count": 1,
   "id": "44e2ab0e-b9b3-40ff-84a2-fa317d362944",
   "metadata": {},
   "outputs": [
    {
     "data": {
      "text/plain": [
       "'gingergingerginger'"
      ]
     },
     "execution_count": 1,
     "metadata": {},
     "output_type": "execute_result"
    }
   ],
   "source": [
    "'ginger' * 3"
   ]
  },
  {
   "cell_type": "code",
   "execution_count": 3,
   "id": "70b5685c-a36f-49f6-b471-1958a064d376",
   "metadata": {},
   "outputs": [
    {
     "data": {
      "text/plain": [
       "True"
      ]
     },
     "execution_count": 3,
     "metadata": {},
     "output_type": "execute_result"
    }
   ],
   "source": [
    "True or True or False"
   ]
  },
  {
   "cell_type": "code",
   "execution_count": 9,
   "id": "1fb3c414-962e-4db7-8ed1-c766c92d77d4",
   "metadata": {},
   "outputs": [
    {
     "data": {
      "text/plain": [
       "True"
      ]
     },
     "execution_count": 9,
     "metadata": {},
     "output_type": "execute_result"
    }
   ],
   "source": [
    "is_breakfast_eaten = True\n",
    "is_lunch_eaten = True\n",
    "is_supper_eaten = False\n",
    "\n",
    "is_food_eaten_today = is_breakfast_eaten or is_lunch_eaten or is_supper_eaten\n",
    "is_food_eaten_today"
   ]
  },
  {
   "cell_type": "code",
   "execution_count": 11,
   "id": "0c5497ae-7a32-4e8a-a7a3-5b617ea8b351",
   "metadata": {},
   "outputs": [
    {
     "data": {
      "text/plain": [
       "float"
      ]
     },
     "execution_count": 11,
     "metadata": {},
     "output_type": "execute_result"
    }
   ],
   "source": [
    "type(9 / 3)"
   ]
  },
  {
   "cell_type": "code",
   "execution_count": 13,
   "id": "c17f48a1-8f11-49b4-8cb9-fe9f7ff323bb",
   "metadata": {},
   "outputs": [
    {
     "data": {
      "text/plain": [
       "False"
      ]
     },
     "execution_count": 13,
     "metadata": {},
     "output_type": "execute_result"
    }
   ],
   "source": [
    "is_secure = True\n",
    "has_hobby = True\n",
    "has_greater_purpose = False\n",
    "\n",
    "is_happy = is_secure and has_hobby and has_greater_purpose\n",
    "is_happy"
   ]
  },
  {
   "cell_type": "code",
   "execution_count": null,
   "id": "5db761f6-b127-4856-9db7-a3d32707f997",
   "metadata": {},
   "outputs": [],
   "source": []
  }
 ],
 "metadata": {
  "kernelspec": {
   "display_name": "Python 3 (ipykernel)",
   "language": "python",
   "name": "python3"
  },
  "language_info": {
   "codemirror_mode": {
    "name": "ipython",
    "version": 3
   },
   "file_extension": ".py",
   "mimetype": "text/x-python",
   "name": "python",
   "nbconvert_exporter": "python",
   "pygments_lexer": "ipython3",
   "version": "3.12.4"
  }
 },
 "nbformat": 4,
 "nbformat_minor": 5
}
